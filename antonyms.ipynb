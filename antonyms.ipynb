{
  "nbformat": 4,
  "nbformat_minor": 0,
  "metadata": {
    "colab": {
      "provenance": [],
      "authorship_tag": "ABX9TyMnVBQXbCjtx49mEZW2fwUk",
      "include_colab_link": true
    },
    "kernelspec": {
      "name": "python3",
      "display_name": "Python 3"
    },
    "language_info": {
      "name": "python"
    }
  },
  "cells": [
    {
      "cell_type": "markdown",
      "metadata": {
        "id": "view-in-github",
        "colab_type": "text"
      },
      "source": [
        "<a href=\"https://colab.research.google.com/github/melikazare/antonym/blob/main/antonyms.ipynb\" target=\"_parent\"><img src=\"https://colab.research.google.com/assets/colab-badge.svg\" alt=\"Open In Colab\"/></a>"
      ]
    },
    {
      "cell_type": "code",
      "source": [
        "import nltk\n",
        "nltk.download('wordnet')"
      ],
      "metadata": {
        "colab": {
          "base_uri": "https://localhost:8080/"
        },
        "id": "hfoWWrmfjMLh",
        "outputId": "79a656d7-001e-4917-dff1-60ab10aaa894"
      },
      "execution_count": 4,
      "outputs": [
        {
          "output_type": "stream",
          "name": "stderr",
          "text": [
            "[nltk_data] Downloading package wordnet to /root/nltk_data...\n"
          ]
        },
        {
          "output_type": "execute_result",
          "data": {
            "text/plain": [
              "True"
            ]
          },
          "metadata": {},
          "execution_count": 4
        }
      ]
    },
    {
      "cell_type": "code",
      "source": [
        "from nltk.corpus import wordnet\n",
        "antonyms = []\n",
        "for s in wordnet.synsets('courageous'):\n",
        "    for lemma in s.lemmas():\n",
        "        for ant in wordnet.synsets(lemma.name()):\n",
        "            for ant_lemma in ant.lemmas():\n",
        "                if ant_lemma.antonyms():\n",
        "                    antonyms.append(ant_lemma.antonyms()[0].name())\n",
        "                    break\n",
        "            if len(antonyms) >= 2:\n",
        "                break\n",
        "        if len(antonyms) >= 2:\n",
        "            break\n",
        "    if len(antonyms) >= 2:\n",
        "        break\n",
        "\n",
        "if len(antonyms) >= 2:\n",
        "    print(\"Antonym 1 of courageous =\", antonyms[0])\n",
        "    print(\"Antonym 2 of courageous =\", antonyms[1])\n",
        "elif len(antonyms) == 1:\n",
        "    print(\"Only one antonym found for 'courageous':\", antonyms[0])\n",
        "else:\n",
        "    print(\"No antonyms found for 'courageous'\")"
      ],
      "metadata": {
        "colab": {
          "base_uri": "https://localhost:8080/"
        },
        "id": "sEcMOij5ji5u",
        "outputId": "e0b576d6-fc5e-452e-c573-ce75128e5945"
      },
      "execution_count": 8,
      "outputs": [
        {
          "output_type": "stream",
          "name": "stdout",
          "text": [
            "Antonym 1 of courageous = timid\n",
            "Antonym 2 of courageous = cowardly\n"
          ]
        }
      ]
    }
  ]
}